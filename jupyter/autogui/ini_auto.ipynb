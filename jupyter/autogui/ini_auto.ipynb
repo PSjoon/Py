{
 "cells": [
  {
   "cell_type": "code",
   "execution_count": 1,
   "metadata": {},
   "outputs": [
    {
     "ename": "KeyboardInterrupt",
     "evalue": "",
     "output_type": "error",
     "traceback": [
      "\u001b[1;31m---------------------------------------------------------------------------\u001b[0m",
      "\u001b[1;31mKeyboardInterrupt\u001b[0m                         Traceback (most recent call last)",
      "\u001b[1;32me:\\code\\cursos\\Python\\jupyter\\autogui\\ini_auto.ipynb Célula: 1\u001b[0m in \u001b[0;36m<cell line: 7>\u001b[1;34m()\u001b[0m\n\u001b[0;32m      <a href='vscode-notebook-cell:/e%3A/code/cursos/Python/jupyter/autogui/ini_auto.ipynb#ch0000000?line=3'>4</a>\u001b[0m pyautogui\u001b[39m.\u001b[39mmoveTo(x\u001b[39m=\u001b[39m\u001b[39m689\u001b[39m, y\u001b[39m=\u001b[39m\u001b[39m352\u001b[39m)\n\u001b[0;32m      <a href='vscode-notebook-cell:/e%3A/code/cursos/Python/jupyter/autogui/ini_auto.ipynb#ch0000000?line=4'>5</a>\u001b[0m pyautogui\u001b[39m.\u001b[39mclick(x\u001b[39m=\u001b[39m\u001b[39m675\u001b[39m, y\u001b[39m=\u001b[39m\u001b[39m741\u001b[39m)\n\u001b[1;32m----> <a href='vscode-notebook-cell:/e%3A/code/cursos/Python/jupyter/autogui/ini_auto.ipynb#ch0000000?line=6'>7</a>\u001b[0m pyautogui\u001b[39m.\u001b[39;49msleep(\u001b[39m10\u001b[39;49m)\n\u001b[0;32m      <a href='vscode-notebook-cell:/e%3A/code/cursos/Python/jupyter/autogui/ini_auto.ipynb#ch0000000?line=7'>8</a>\u001b[0m pyautogui\u001b[39m.\u001b[39mhotkey(\u001b[39m'\u001b[39m\u001b[39mctrl\u001b[39m\u001b[39m'\u001b[39m, \u001b[39m'\u001b[39m\u001b[39mt\u001b[39m\u001b[39m'\u001b[39m)\n\u001b[0;32m      <a href='vscode-notebook-cell:/e%3A/code/cursos/Python/jupyter/autogui/ini_auto.ipynb#ch0000000?line=8'>9</a>\u001b[0m pyautogui\u001b[39m.\u001b[39mwrite(\u001b[39m'\u001b[39m\u001b[39mn\u001b[39m\u001b[39m'\u001b[39m)\n",
      "File \u001b[1;32m~\\AppData\\Local\\Packages\\PythonSoftwareFoundation.Python.3.9_qbz5n2kfra8p0\\LocalCache\\local-packages\\Python39\\site-packages\\pyautogui\\__init__.py:1794\u001b[0m, in \u001b[0;36msleep\u001b[1;34m(seconds)\u001b[0m\n\u001b[0;32m   1793\u001b[0m \u001b[39mdef\u001b[39;00m \u001b[39msleep\u001b[39m(seconds):\n\u001b[1;32m-> 1794\u001b[0m     time\u001b[39m.\u001b[39;49msleep(seconds)\n",
      "\u001b[1;31mKeyboardInterrupt\u001b[0m: "
     ]
    }
   ],
   "source": [
    "import pyautogui\n",
    "\n",
    "pyautogui.sleep(30)\n",
    "pyautogui.moveTo(x=689, y=352)\n",
    "pyautogui.sleep(2)\n",
    "pyautogui.click(x=675, y=741)\n",
    "\n",
    "pyautogui.sleep(10)\n",
    "pyautogui.hotkey('ctrl', 't')\n",
    "pyautogui.write('n')\n",
    "pyautogui.hotkey('enter')\n",
    "pyautogui.sleep(1)\n",
    "\n",
    "pyautogui.hotkey('ctrl', 't')\n",
    "pyautogui.write('u')\n",
    "pyautogui.hotkey('enter')\n",
    "pyautogui.sleep(5)\n",
    "pyautogui.click(x=1048, y=110)\n",
    "pyautogui.sleep(3)\n",
    "pyautogui.scroll(-600)\n",
    "pyautogui.sleep(2)\n",
    "\n",
    "pyautogui.hotkey('ctrl', 't')\n",
    "pyautogui.write('e')\n",
    "pyautogui.hotkey('enter')\n",
    "pyautogui.sleep(5)\n",
    "pyautogui.click(x=694, y=541)\n",
    "pyautogui.sleep(6)\n",
    "pyautogui.click(x=718, y=389)\n",
    "pyautogui.sleep(6)\n",
    "pyautogui.scroll(-300)\n",
    "pyautogui.click(x=263, y=542)\n",
    "pyautogui.sleep(4)\n",
    "pyautogui.scroll(-1610)\n",
    "pyautogui.sleep(5)\n",
    "pyautogui.click(x=669, y=326)\n",
    "pyautogui.scroll(-300)\n",
    "pyautogui.sleep(3)\n",
    "\n",
    "pyautogui.click(x=18, y=207)\n",
    "pyautogui.sleep(2)\n",
    "pyautogui.click(x=18, y=250)\n",
    "pyautogui.sleep(2)\n",
    "pyautogui.click(x=18, y=295)\n",
    "pyautogui.sleep(4)\n",
    "pyautogui.click(x=18, y=356)\n",
    "pyautogui.sleep(4)\n",
    "pyautogui.click(x=1277, y=390)\n",
    "pyautogui.sleep(2)\n",
    "\n",
    "pyautogui.click(x=129, y=10)\n",
    "pyautogui.sleep(2)\n",
    "pyautogui.click(x=1252, y=47)"
   ]
  }
 ],
 "metadata": {
  "kernelspec": {
   "display_name": "Python 3.9.13 64-bit (windows store)",
   "language": "python",
   "name": "python3"
  },
  "language_info": {
   "codemirror_mode": {
    "name": "ipython",
    "version": 3
   },
   "file_extension": ".py",
   "mimetype": "text/x-python",
   "name": "python",
   "nbconvert_exporter": "python",
   "pygments_lexer": "ipython3",
   "version": "3.9.13"
  },
  "orig_nbformat": 4,
  "vscode": {
   "interpreter": {
    "hash": "8660e27b57681fdb92b0887e7ffad6d064702c28d56b50a49c359bacc8288a62"
   }
  }
 },
 "nbformat": 4,
 "nbformat_minor": 2
}
